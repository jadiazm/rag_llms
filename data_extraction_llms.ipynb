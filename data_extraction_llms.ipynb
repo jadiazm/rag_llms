{
 "cells": [
  {
   "cell_type": "code",
   "execution_count": 1,
   "metadata": {},
   "outputs": [
    {
     "name": "stderr",
     "output_type": "stream",
     "text": [
      "c:\\Users\\Jonathan Diaz\\Documentos\\Proyects\\rag_llms\\venv\\Lib\\site-packages\\IPython\\core\\interactiveshell.py:3577: LangChainDeprecationWarning: As of langchain-core 0.3.0, LangChain uses pydantic v2 internally. The langchain_core.pydantic_v1 module was a compatibility shim for pydantic v1, and should no longer be used. Please update the code to import from Pydantic directly.\n",
      "\n",
      "For example, replace imports like: `from langchain_core.pydantic_v1 import BaseModel`\n",
      "with: `from pydantic import BaseModel`\n",
      "or the v1 compatibility namespace if you are working in a code base that has not been fully upgraded to pydantic 2 yet. \tfrom pydantic.v1 import BaseModel\n",
      "\n",
      "  exec(code_obj, self.user_global_ns, self.user_ns)\n"
     ]
    }
   ],
   "source": [
    "# Import Langchain modules\n",
    "from langchain.document_loaders import PyPDFLoader\n",
    "from langchain.text_splitter import RecursiveCharacterTextSplitter\n",
    "from langchain_openai import OpenAIEmbeddings, ChatOpenAI\n",
    "from langchain.vectorstores import Chroma\n",
    "from langchain_core.runnables import RunnablePassthrough\n",
    "from langchain_core.prompts import ChatPromptTemplate\n",
    "from langchain_core.pydantic_v1 import BaseModel, Field\n",
    "\n",
    "# Other modules and packages\n",
    "import os\n",
    "import tempfile\n",
    "import streamlit as st\n",
    "import pandas as pd\n",
    "from dotenv import load_dotenv"
   ]
  },
  {
   "cell_type": "code",
   "execution_count": 2,
   "metadata": {},
   "outputs": [
    {
     "data": {
      "text/plain": [
       "True"
      ]
     },
     "execution_count": 2,
     "metadata": {},
     "output_type": "execute_result"
    }
   ],
   "source": [
    "load_dotenv()"
   ]
  },
  {
   "cell_type": "code",
   "execution_count": 5,
   "metadata": {},
   "outputs": [],
   "source": [
    "OPENAI_API_KEY = os.environ.get(\"OPENAI_API_KEY\")"
   ]
  },
  {
   "cell_type": "markdown",
   "metadata": {},
   "source": [
    "## Define our LLM"
   ]
  },
  {
   "cell_type": "code",
   "execution_count": 8,
   "metadata": {},
   "outputs": [
    {
     "data": {
      "text/plain": [
       "AIMessage(content=\"Why did the dog sit in the shade?\\n\\nBecause he didn't want to become a hot dog!\", additional_kwargs={'refusal': None}, response_metadata={'token_usage': {'completion_tokens': 19, 'prompt_tokens': 13, 'total_tokens': 32, 'completion_tokens_details': {'reasoning_tokens': 0}}, 'model_name': 'gpt-4o-mini-2024-07-18', 'system_fingerprint': 'fp_1bb46167f9', 'finish_reason': 'stop', 'logprobs': None}, id='run-970cddc8-87e0-4b4a-9193-1210076976f6-0', usage_metadata={'input_tokens': 13, 'output_tokens': 19, 'total_tokens': 32})"
      ]
     },
     "execution_count": 8,
     "metadata": {},
     "output_type": "execute_result"
    }
   ],
   "source": [
    "llm = ChatOpenAI(model=\"gpt-4o-mini\", api_key=OPENAI_API_KEY)\n",
    "llm.invoke(\"Tell me a joke about dogs\")"
   ]
  },
  {
   "cell_type": "markdown",
   "metadata": {},
   "source": [
    "## Process PDF document"
   ]
  },
  {
   "cell_type": "markdown",
   "metadata": {},
   "source": [
    "### Load PDF document"
   ]
  },
  {
   "cell_type": "code",
   "execution_count": 19,
   "metadata": {},
   "outputs": [],
   "source": [
    "loader = PyPDFLoader(\"data/carvalho2007.pdf\")\n",
    "pages = loader.load()"
   ]
  },
  {
   "cell_type": "code",
   "execution_count": 31,
   "metadata": {},
   "outputs": [
    {
     "name": "stdout",
     "output_type": "stream",
     "text": [
      "Optimal Dynamical Characterization of Entanglement\n",
      "Andre ´R. R. Carvalho,1,2Marc Busse,1Olivier Brodier,1Carlos Viviescas,1and Andreas Buchleitner1\n",
      "1Max-Planck-Institut fu ¨r Physik komplexer Systeme, No ¨thnitzer Strasse 38, 01187 Dresden, Germany\n",
      "2Department of Physics, Faculty of Science, Australian National University, ACT 0200, Australia\n",
      "(Received 2 April 2006; published 7 May 2007)\n",
      "We show that, for experimentally relevant systems, there is an optimal measurement strategy to monitor\n",
      "the time evolution of entanglement under open system dynamics. This suggests an efﬁcient, dynamical\n",
      "characterization of the entanglement of composite, open quantum systems.\n",
      "DOI: 10.1103/PhysRevLett.98.190501 PACS numbers: 03.67.Mn, 03.65.Ud, 03.65.Yz, 42.50.Lc\n",
      "Quantum-information processing requires the ability to\n",
      "produce entangled states and coherently perform opera-tions on them. Under realistic laboratory conditions, how-\n",
      "ever, entanglement is degraded through uncontrolled cou-\n",
      "pling to the environment. It is of crucial practical impor-tance to quantify this degradation process [ 1–3], though\n",
      "also extremely difﬁcult in general, due to the intricatemathematical notions upon which our understanding ofentanglement relies [ 4–6]. While it was shown theoreti-\n",
      "cally and experimentally that pure state entanglement canbe directly measured, as an observable on multiple copies\n",
      "of the state under scrutiny [ 7,8], the direct monitoring of\n",
      "entanglement dynamics in the presence of incoherent pro-cesses, in real time, remained hitherto unaddressed. Inshort, the principal formal impediment for such assessmentlies in the optimization problem which is implicit in thecharacterization of mixed state entanglement, and which iswidely believed to be too complex to have an efﬁcientsolution.\n",
      "In the present Letter, we present analytical and numeri-\n",
      "cal results for small, yet experimentally relevant systems,which suggest an efﬁcient, dynamical characterization of\n",
      "entanglement on a considerably restrained optimizationspace. As we will show, this is achieved by selectingpure state decompositions of the time evolved system’sdensity matrix which are generated through suitably de-ﬁned, continuous measurements of the system’s state—\n",
      "rather than searching within all admissible state decom-\n",
      "positions. In addition, our approach avoids the repeatedreconstruction of the density matrix at different times [ 2],\n",
      "since the optimal decomposition is automatically providedby the (time-independent) optimal measurement protocol.\n",
      "Consider a bipartite quantum system composed of sub-\n",
      "systemsAandB, interacting with its environment. Because\n",
      "of this coupling, an initially pure state j/.0009\n",
      "0iof the com-\n",
      "posite system will evolve into a mixed state /.0026/.0133t/.0134, in a way\n",
      "governed by the master equation\n",
      " _/.0026/.0136/.0255i\n",
      "@/.0137H;/.0026/.0138/.0135XN\n",
      "k/.01361Lk/.0026; (1)\n",
      "where the Hamiltonian Hgenerates the unitary system\n",
      "dynamics. The superoperators Lkdescribe the effects of\n",
      "the environment on the system, and, for a Markovian bath,have the standard form [ 9]\n",
      " Lk/.0026/.01361\n",
      "2/.01332Jk/.0026Jy\n",
      "k/.0255Jy\n",
      "kJk/.0026/.0255/.0026Jy\n",
      "kJk/.0134; (2)\n",
      "where the operators Jkdepend on the speciﬁc physical\n",
      "situation under study.\n",
      "To extract the time evolution of entanglement under this\n",
      "incoherent dynamics, one solution is to evaluate a givenentanglement measure M/.0133/.0026/.0134for the solution /.0026/.0133t/.0134, at all\n",
      "timest. One starts from one of the known pure state\n",
      "measuresM/.0133/.0009/.0134[5,6,10], together with a pure state decom-\n",
      "position of/.0026,\n",
      " /.0026/.0136X\n",
      "ipij/.0009iih/.0009ij; (3)\n",
      "where thepiare the positive, normalized weights of each\n",
      "pure state j/.0009ii. The most naive generalization for a mixed\n",
      "state would then be to consider the average\n",
      " /.0022M/.0136X\n",
      "ipiM/.0133/.0009i/.0134; (4)\n",
      "which, however, is not suitable, since the decomposition\n",
      "(3) is not unique: /.0022Mwould thus give rise to different values\n",
      "of entanglement for different valid decompositions of /.0026\n",
      "[11],inconsistently with the general requirements for a\n",
      "bona ﬁde entanglement measure [ 5,6]. A natural choice\n",
      "forM/.0133/.0026/.0134is the inﬁmum of all possible averages /.0022M[12], but\n",
      "holds two main drawbacks: (i) it turns into a hard numeri-cal problem for higher dimensional or multipartite sys-tems, and, (ii) even for bipartite qubits, where analyti-\n",
      "cal solutions for some measures M/.0133/.0026/.0134are known [ 10],\n",
      "there is no obvious physical interpretation of this optimaldecomposition.\n",
      "Our present approach avoids the direct use of the mixed\n",
      "state solutions /.0026/.0133t/.0134, by substituting them by physically\n",
      "motivated ensembles of pure states. To do this, instead ofsolving the evolution equation for the density operator, wewill follow a stochastic time evolution [ 11,13,14] of the\n",
      "initially pure state. This combines randomly occurring\n",
      "quantum jumps, deﬁned by the action of the operators J\n",
      "k\n",
      "in Eq. ( 2), with periods of continuous evolution, generated\n",
      "by a non-Hermitian effective Hamiltonian Heff/.0136\n",
      "H/.0255i@P\n",
      "kJy\n",
      "kJk=2. The resulting quantum trajectories are\n",
      "known to provide the same result as the master equation,PRL 98,190501 (2007)PHYSICAL REVIEW LETTERSweek ending\n",
      "11 MAY 2007\n",
      "0031-9007=07=98(19)=190501(4) 190501-1 ©2007 The American Physical Society\n"
     ]
    }
   ],
   "source": [
    "print(pages[0].page_content)"
   ]
  },
  {
   "cell_type": "code",
   "execution_count": 33,
   "metadata": {},
   "outputs": [],
   "source": [
    "text_splitter = RecursiveCharacterTextSplitter(\n",
    "    chunk_size=1500,\n",
    "    chunk_overlap=200,\n",
    "    length_function=len,\n",
    "    separators=[\"\\n\\n\", \"\\n\\n\", \" \"],\n",
    ")\n",
    "chunks = text_splitter.split_documents(pages)"
   ]
  },
  {
   "cell_type": "markdown",
   "metadata": {},
   "source": [
    "## Create embeddings"
   ]
  },
  {
   "cell_type": "code",
   "execution_count": 35,
   "metadata": {},
   "outputs": [],
   "source": [
    "def get_embeddings_function():\n",
    "    embeddings = OpenAIEmbeddings(\n",
    "        model=\"text-embedding-ada-002\",\n",
    "        openai_api_key=OPENAI_API_KEY,\n",
    "    )\n",
    "    return embeddings\n",
    "\n",
    "embedding_function = get_embeddings_function()\n",
    "test_vector = embedding_function.embed_query(\"cat\")"
   ]
  },
  {
   "cell_type": "code",
   "execution_count": 38,
   "metadata": {},
   "outputs": [
    {
     "data": {
      "text/plain": [
       "{'score': 0.17885535636240357}"
      ]
     },
     "execution_count": 38,
     "metadata": {},
     "output_type": "execute_result"
    }
   ],
   "source": [
    "from langchain.evaluation import load_evaluator\n",
    "\n",
    "evaluator = load_evaluator(evaluator=\"embedding_distance\", embeddings=embedding_function)\n",
    "\n",
    "evaluator.evaluate_strings(prediction=\"Amnsterdam\", reference=\"coffeeshop\")"
   ]
  }
 ],
 "metadata": {
  "kernelspec": {
   "display_name": "Python 3",
   "language": "python",
   "name": "python3"
  },
  "language_info": {
   "codemirror_mode": {
    "name": "ipython",
    "version": 3
   },
   "file_extension": ".py",
   "mimetype": "text/x-python",
   "name": "python",
   "nbconvert_exporter": "python",
   "pygments_lexer": "ipython3",
   "version": "3.12.4"
  }
 },
 "nbformat": 4,
 "nbformat_minor": 2
}
